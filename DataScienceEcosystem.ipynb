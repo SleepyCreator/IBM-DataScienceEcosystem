{
 "cells": [
  {
   "cell_type": "markdown",
   "id": "ea94c980",
   "metadata": {},
   "source": [
    "# DataScienceEcosystem"
   ]
  },
  {
   "cell_type": "markdown",
   "id": "ed530938",
   "metadata": {},
   "source": [
    "## In this notebook, Data Science Tools and Ecosystem are summarized."
   ]
  },
  {
   "cell_type": "markdown",
   "id": "d1a2a9ea",
   "metadata": {},
   "source": [
    "**Objectives:**\n",
    "* Comment on data tools\n",
    "* List of language that Data Scientists Use\n",
    "* Comment on Data Science tools"
   ]
  },
  {
   "cell_type": "markdown",
   "id": "5ade13bf",
   "metadata": {},
   "source": [
    "Some of the popular languages that Data Scientists use are:\n",
    "1. Python\n",
    "2. Java\n",
    "3. R\n",
    "4. JS\n",
    "5. Swift"
   ]
  },
  {
   "cell_type": "markdown",
   "id": "39d3b489",
   "metadata": {},
   "source": [
    "Some of the commonly used libraries used by Data Scientists include:\n",
    "\n",
    "1. Pytorch\n",
    "2. Pandas\n",
    "3. Numpy\n",
    "4. TensorFlow\n",
    "5. Keras\n",
    "6. SciPy"
   ]
  },
  {
   "cell_type": "markdown",
   "id": "8dc5d4e0",
   "metadata": {},
   "source": [
    "| Data Science Tools |\n",
    "| ------------------ |\n",
    "| Tableau |\n",
    "| Jupyter |\n",
    "| Matplotlib |\n",
    "| NLTK |"
   ]
  },
  {
   "cell_type": "markdown",
   "id": "5d46ceff",
   "metadata": {},
   "source": [
    "**Exercise 7 - Create a markdown cell introducing arithmetic expression examples. (1 pt)**"
   ]
  },
  {
   "cell_type": "markdown",
   "id": "86270c2d",
   "metadata": {},
   "source": [
    "### Below are a few examples of evaluating arithmetic expressions in Python."
   ]
  },
  {
   "cell_type": "code",
   "execution_count": 12,
   "id": "f77a799f",
   "metadata": {},
   "outputs": [
    {
     "data": {
      "text/plain": [
       "47.0"
      ]
     },
     "execution_count": 12,
     "metadata": {},
     "output_type": "execute_result"
    }
   ],
   "source": [
    "# Arithmetic operations\n",
    "import random\n",
    "import math\n",
    "code = (random.randint(1,10)+random.randint(10,20))//2 + math.pow(random.randint(5,7),random.randint(2,3))\n",
    "code"
   ]
  },
  {
   "cell_type": "markdown",
   "id": "af0907a2",
   "metadata": {},
   "source": [
    "**Exercise 8 - Create a code cell to multiply and add numbers**"
   ]
  },
  {
   "cell_type": "code",
   "execution_count": 14,
   "id": "e2751a58",
   "metadata": {},
   "outputs": [
    {
     "data": {
      "text/plain": [
       "17"
      ]
     },
     "execution_count": 14,
     "metadata": {},
     "output_type": "execute_result"
    }
   ],
   "source": [
    "(3*4)+5"
   ]
  },
  {
   "cell_type": "markdown",
   "id": "7a6b1c7e",
   "metadata": {},
   "source": [
    "**Exercise 9 - Create a code cell to convert minutes to hours. (2 pts)**"
   ]
  },
  {
   "cell_type": "code",
   "execution_count": 16,
   "id": "410666da",
   "metadata": {},
   "outputs": [
    {
     "name": "stdout",
     "output_type": "stream",
     "text": [
      "hours : 3.3333333333333335\n"
     ]
    }
   ],
   "source": [
    "time = 200\n",
    "print(f'hours : {200/60}')"
   ]
  },
  {
   "cell_type": "markdown",
   "id": "6604e744",
   "metadata": {},
   "source": [
    "**Exercise 11 - Create a markdown cell to indicate the Author’s name.**"
   ]
  },
  {
   "cell_type": "markdown",
   "id": "cdeacda9",
   "metadata": {},
   "source": [
    "# Author"
   ]
  },
  {
   "cell_type": "markdown",
   "id": "dc0c4337",
   "metadata": {},
   "source": [
    "Viet Le"
   ]
  }
 ],
 "metadata": {
  "kernelspec": {
   "display_name": "Python 3 (ipykernel)",
   "language": "python",
   "name": "python3"
  },
  "language_info": {
   "codemirror_mode": {
    "name": "ipython",
    "version": 3
   },
   "file_extension": ".py",
   "mimetype": "text/x-python",
   "name": "python",
   "nbconvert_exporter": "python",
   "pygments_lexer": "ipython3",
   "version": "3.10.10"
  }
 },
 "nbformat": 4,
 "nbformat_minor": 5
}
